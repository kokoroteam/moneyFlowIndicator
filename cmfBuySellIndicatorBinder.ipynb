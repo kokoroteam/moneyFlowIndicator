{
 "cells": [
  {
   "cell_type": "code",
   "execution_count": null,
   "metadata": {},
   "outputs": [],
   "source": [
    "#MAIN\n",
    "import moneyFlowIndicator.moneyFlowIndicatorPkg\n",
    "mf = moneyFlowIndicator.moneyFlowIndicatorPkg.mf_movement()\n",
    "df = mf.yahoo_api() \n",
    "df = mf.differences(df) \n",
    "df = mf.cmf(df) \n",
    "df1 = mf.buy_sell_signals(df)\n",
    "mf.output_signal(df1)"
   ]
  }
 ],
 "metadata": {
  "kernelspec": {
   "display_name": "Python 3",
   "language": "python",
   "name": "python3"
  },
  "language_info": {
   "codemirror_mode": {
    "name": "ipython",
    "version": 3
   },
   "file_extension": ".py",
   "mimetype": "text/x-python",
   "name": "python",
   "nbconvert_exporter": "python",
   "pygments_lexer": "ipython3",
   "version": "3.7.4"
  }
 },
 "nbformat": 4,
 "nbformat_minor": 2
}
